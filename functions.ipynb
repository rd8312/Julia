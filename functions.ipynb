{
 "cells": [
  {
   "cell_type": "code",
   "execution_count": 1,
   "id": "stainless-skirt",
   "metadata": {},
   "outputs": [
    {
     "data": {
      "text/plain": [
       "f (generic function with 1 method)"
      ]
     },
     "execution_count": 1,
     "metadata": {},
     "output_type": "execute_result"
    }
   ],
   "source": [
    "# 函式\n",
    "\n",
    "function f(x, y)\n",
    "    return x + y\n",
    "end"
   ]
  },
  {
   "cell_type": "code",
   "execution_count": 2,
   "id": "suffering-indianapolis",
   "metadata": {},
   "outputs": [
    {
     "data": {
      "text/plain": [
       "3"
      ]
     },
     "execution_count": 2,
     "metadata": {},
     "output_type": "execute_result"
    }
   ],
   "source": [
    "f(1, 2)"
   ]
  },
  {
   "cell_type": "code",
   "execution_count": 3,
   "id": "parliamentary-evidence",
   "metadata": {},
   "outputs": [
    {
     "data": {
      "text/plain": [
       "6"
      ]
     },
     "execution_count": 3,
     "metadata": {},
     "output_type": "execute_result"
    }
   ],
   "source": [
    "f(f(1, 2), 3)"
   ]
  },
  {
   "cell_type": "code",
   "execution_count": 4,
   "id": "checked-african",
   "metadata": {},
   "outputs": [
    {
     "data": {
      "text/plain": [
       "3"
      ]
     },
     "execution_count": 4,
     "metadata": {},
     "output_type": "execute_result"
    }
   ],
   "source": [
    "# ex2\n",
    "h(x, y)= x + y\n",
    "\n",
    "h(1, 2)"
   ]
  },
  {
   "cell_type": "code",
   "execution_count": 5,
   "id": "intended-plastic",
   "metadata": {},
   "outputs": [
    {
     "data": {
      "text/plain": [
       "3"
      ]
     },
     "execution_count": 5,
     "metadata": {},
     "output_type": "execute_result"
    }
   ],
   "source": [
    "# ex3\n",
    "function g(x::Int64, y::Int64)::Int64\n",
    "    return x + y\n",
    "end\n",
    "\n",
    "g(1, 2)"
   ]
  },
  {
   "cell_type": "code",
   "execution_count": 6,
   "id": "genuine-astronomy",
   "metadata": {},
   "outputs": [
    {
     "ename": "LoadError",
     "evalue": "\u001b[91mMethodError: no method matching g(::Float64, ::Float64)\u001b[39m",
     "output_type": "error",
     "traceback": [
      "\u001b[91mMethodError: no method matching g(::Float64, ::Float64)\u001b[39m",
      "",
      "Stacktrace:",
      " [1] top-level scope at In[6]:1",
      " [2] include_string(::Function, ::Module, ::String, ::String) at .\\loading.jl:1091"
     ]
    }
   ],
   "source": [
    "g(1.2, 2.3)"
   ]
  },
  {
   "cell_type": "code",
   "execution_count": 7,
   "id": "colonial-operations",
   "metadata": {},
   "outputs": [
    {
     "data": {
      "text/plain": [
       "5.45"
      ]
     },
     "execution_count": 7,
     "metadata": {},
     "output_type": "execute_result"
    }
   ],
   "source": [
    "function g1(x::Real, y::Real)::Real\n",
    "    return x + y\n",
    "end\n",
    "\n",
    "g1(2, 3.45)"
   ]
  },
  {
   "cell_type": "code",
   "execution_count": 8,
   "id": "precious-union",
   "metadata": {},
   "outputs": [
    {
     "name": "stdout",
     "output_type": "stream",
     "text": [
      "6614235794731547847\n",
      "6614235794731547847\n"
     ]
    }
   ],
   "source": [
    "# 傳遞參數\n",
    "# ex6\n",
    "println(objectid(1))\n",
    "\n",
    "x = 1\n",
    "println(objectid(x))"
   ]
  },
  {
   "cell_type": "code",
   "execution_count": 9,
   "id": "agricultural-bloom",
   "metadata": {},
   "outputs": [
    {
     "name": "stdout",
     "output_type": "stream",
     "text": [
      "6614235794731547847\n",
      "13228483051821679229\n"
     ]
    },
    {
     "data": {
      "text/plain": [
       "1"
      ]
     },
     "execution_count": 9,
     "metadata": {},
     "output_type": "execute_result"
    }
   ],
   "source": [
    "# ex7\n",
    "function sharing(x)\n",
    "    println(objectid(x))\n",
    "    x = 2\n",
    "    println(objectid(x))\n",
    "end\n",
    "\n",
    "sharing(x)\n",
    "x"
   ]
  },
  {
   "cell_type": "code",
   "execution_count": 10,
   "id": "usual-inspiration",
   "metadata": {},
   "outputs": [
    {
     "name": "stdout",
     "output_type": "stream",
     "text": [
      "6614235794731547847\n",
      "6614235794731547847\n",
      "6614235794731547847\n"
     ]
    }
   ],
   "source": [
    "# ex8\n",
    "x = 1\n",
    "y = 1\n",
    "println(objectid(1))\n",
    "println(objectid(x))\n",
    "println(objectid(y))"
   ]
  },
  {
   "cell_type": "code",
   "execution_count": 11,
   "id": "other-integration",
   "metadata": {},
   "outputs": [
    {
     "data": {
      "text/plain": [
       "21"
      ]
     },
     "execution_count": 11,
     "metadata": {},
     "output_type": "execute_result"
    }
   ],
   "source": [
    "# 運算子就是一種函式\n",
    "1 + 2 + 3 + 4 + 5 + 6\n",
    "+(1, 2, 3, 4, 5, 6)"
   ]
  },
  {
   "cell_type": "code",
   "execution_count": null,
   "id": "fuzzy-brown",
   "metadata": {},
   "outputs": [],
   "source": []
  }
 ],
 "metadata": {
  "kernelspec": {
   "display_name": "Julia 1.5.3",
   "language": "julia",
   "name": "julia-1.5"
  },
  "language_info": {
   "file_extension": ".jl",
   "mimetype": "application/julia",
   "name": "julia",
   "version": "1.5.3"
  }
 },
 "nbformat": 4,
 "nbformat_minor": 5
}
