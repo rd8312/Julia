{
 "cells": [
  {
   "cell_type": "code",
   "execution_count": 4,
   "metadata": {},
   "outputs": [
    {
     "name": "stdout",
     "output_type": "stream",
     "text": [
      "請輸入3個數字:\n"
     ]
    },
    {
     "name": "stdin",
     "output_type": "stream",
     "text": [
      "stdin>  20\n",
      "stdin>  30\n",
      "stdin>  40\n"
     ]
    },
    {
     "name": "stdout",
     "output_type": "stream",
     "text": [
      "您所輸入的數字分別為: 20, 30, 40\n"
     ]
    }
   ],
   "source": [
    "println(\"請輸入3個數字:\")\n",
    "n1 = readline()\n",
    "n1 = parse(Int64, n1)\n",
    "\n",
    "n2 = readline()\n",
    "n2 = parse(Int64, n2)\n",
    "\n",
    "n3 = readline()\n",
    "n3 = parse(Int64, n3)\n",
    "\n",
    "println(\"您所輸入的數字分別為: \",n1,\", \",n2,\", \",n3)"
   ]
  },
  {
   "cell_type": "code",
   "execution_count": null,
   "metadata": {},
   "outputs": [],
   "source": []
  }
 ],
 "metadata": {
  "kernelspec": {
   "display_name": "Julia 1.5.3",
   "language": "julia",
   "name": "julia-1.5"
  },
  "language_info": {
   "file_extension": ".jl",
   "mimetype": "application/julia",
   "name": "julia",
   "version": "1.5.3"
  }
 },
 "nbformat": 4,
 "nbformat_minor": 4
}
